{
 "cells": [
  {
   "cell_type": "code",
   "execution_count": 3,
   "metadata": {},
   "outputs": [],
   "source": [
    "# importing packages\n",
    "import numpy as np\n",
    "from reverse_mode import *\n",
    "from expressions import Sin as sin\n",
    "from expressions import Exp as exp"
   ]
  },
  {
   "attachments": {},
   "cell_type": "markdown",
   "metadata": {},
   "source": [
    "Reverse Mode Example:\n",
    "\n",
    "$$F(x, y) = \\sin(x^2y) + \\exp(x^2)$$"
   ]
  },
  {
   "cell_type": "code",
   "execution_count": 18,
   "metadata": {},
   "outputs": [
    {
     "name": "stdout",
     "output_type": "stream",
     "text": [
      "Reverse Mode Answer:\n",
      "x: 3.7719763107295208, y: -0.4161468365471424\n",
      "Correct Solution:\n",
      "x: 3.7719763107295208, y: -0.4161468365471424\n"
     ]
    }
   ],
   "source": [
    "expr = np.array([sin(x**2 * y) + exp(x**2)])\n",
    "answer = VectorReverseMode(expr, {\"x\": 1, \"y\": 2}).compute_partial_derivatives()[0]\n",
    "print(\"Reverse Mode Answer:\")\n",
    "print(f'x: {answer[x]}, y: {answer[y]}')\n",
    "print(\"Correct Solution:\")\n",
    "print(f'x: {4*np.cos(2) + 2*np.exp(1)}, y: {np.cos(2)}')"
   ]
  }
 ],
 "metadata": {
  "kernelspec": {
   "display_name": "Python 3",
   "language": "python",
   "name": "python3"
  },
  "language_info": {
   "codemirror_mode": {
    "name": "ipython",
    "version": 3
   },
   "file_extension": ".py",
   "mimetype": "text/x-python",
   "name": "python",
   "nbconvert_exporter": "python",
   "pygments_lexer": "ipython3",
   "version": "3.11.0"
  },
  "orig_nbformat": 4
 },
 "nbformat": 4,
 "nbformat_minor": 2
}
